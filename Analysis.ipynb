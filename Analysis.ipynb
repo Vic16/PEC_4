{
 "cells": [
  {
   "cell_type": "code",
   "execution_count": 1,
   "metadata": {},
   "outputs": [],
   "source": [
    "import pandas as pd\n",
    "import re\n",
    "import glob\n",
    "\n",
    "from read_data import read_class_functions\n",
    "from read_data import read_ORFs_data\n",
    "from analytics import ORFs_per_class\n",
    "from analytics import count_class\n",
    "from analytics import mean_ORF_related\n",
    "from analytics import ORFs_respiration\n",
    "from analytics import count_class_multiplos\n"
   ]
  },
  {
   "cell_type": "markdown",
   "metadata": {},
   "source": [
    "### Lectura de los datos:\n",
    "\n",
    "read_class_functions(), lee el file con formato .pl y devuelve un DataFrame de Pandas"
   ]
  },
  {
   "cell_type": "code",
   "execution_count": 2,
   "metadata": {},
   "outputs": [
    {
     "name": "stdout",
     "output_type": "stream",
     "text": [
      "El head del DF: \n",
      "\n",
      "\n",
      "      ORF gen_name                       description_ORF        Ids  \\\n",
      "0   tb186     bglS                      beta-glucosidase  [1,1,1,0]   \n",
      "1  tb2202     cbhK                   carbohydrate kinase  [1,1,1,0]   \n",
      "2   tb727     fucA         L-fuculose phosphate aldolase  [1,1,1,0]   \n",
      "3  tb1731    gabD1  succinate-semialdehyde dehydrogenase  [1,1,1,0]   \n",
      "4   tb234    gabD2  succinate-semialdehyde dehydrogenase  [1,1,1,0]   \n",
      "\n",
      "      Descripciones  \n",
      "0  Carbon compounds  \n",
      "1  Carbon compounds  \n",
      "2  Carbon compounds  \n",
      "3  Carbon compounds  \n",
      "4  Carbon compounds  \n"
     ]
    }
   ],
   "source": [
    "path_file = \"data/tb_functions.pl\"\n",
    "data_class = read_class_functions(path_file)"
   ]
  },
  {
   "cell_type": "markdown",
   "metadata": {},
   "source": [
    "read_ORFs_data() se encarge de leer los datos de relación de los ORFs:"
   ]
  },
  {
   "cell_type": "code",
   "execution_count": 3,
   "metadata": {},
   "outputs": [
    {
     "name": "stdout",
     "output_type": "stream",
     "text": [
      "Head de los datos de las relaciones entre ORFs: \n",
      "\n",
      "   ORF ORF_Related         Value\n",
      "0  tb4      tb3671  1.100000e-01\n",
      "1  tb4       tb405  4.300000e-01\n",
      "2  tb4      tb3225  5.600000e-01\n",
      "3  tb4      tb3863  7.400000e-01\n",
      "4  tb4      tb2867  9.600000e-01\n"
     ]
    }
   ],
   "source": [
    "path = 'data/orfs/'\n",
    "all_files = glob.glob(path + \"*.txt\")\n",
    "data_ORFS = read_ORFs_data(all_files)"
   ]
  },
  {
   "cell_type": "markdown",
   "metadata": {},
   "source": [
    "## Ejercicio 1.1"
   ]
  },
  {
   "cell_type": "code",
   "execution_count": 4,
   "metadata": {},
   "outputs": [
    {
     "name": "stdout",
     "output_type": "stream",
     "text": [
      "Estas son las clases con más ORFs: \n",
      "\n",
      "Ids\n",
      "[5,0,0,0]     915\n",
      "[6,0,0,0]     606\n",
      "[2,3,5,0]     211\n",
      "[1,2,7,0]     171\n",
      "[1,10,1,0]    143\n",
      "[1,1,3,0]     119\n",
      "[2,1,5,0]      69\n",
      "[4,3,2,0]      68\n",
      "[2,3,1,0]      65\n",
      "[4,8,0,0]      61\n",
      "Name: ORF, dtype: int64\n",
      "Se ha guardado un archivo .csv con la información completa!\n"
     ]
    }
   ],
   "source": [
    "ORFs_per_class(data_class)"
   ]
  },
  {
   "cell_type": "markdown",
   "metadata": {},
   "source": [
    "## Ejercicio 1.2\n",
    "\n",
    "ORFs_respiration() devuelve el número de ORFs relacionados a la respiración, además guarda un archivo csv con la información completa de dichos ORFs. "
   ]
  },
  {
   "cell_type": "code",
   "execution_count": 11,
   "metadata": {},
   "outputs": [
    {
     "name": "stdout",
     "output_type": "stream",
     "text": [
      "\n",
      " Se ha guardado un archivo con todos los ORFs relacionados respiración\n",
      "AxesSubplot(0.125,0.125;0.775x0.755)\n"
     ]
    },
    {
     "data": {
      "image/png": "[encoded data removed]",
      "text/plain": [
       "<Figure size 432x288 with 1 Axes>"
      ]
     },
     "metadata": {
      "needs_background": "light"
     },
     "output_type": "display_data"
    }
   ],
   "source": [
    "respiration_ORFs = ORFs_respiration(data_class)"
   ]
  },
  {
   "cell_type": "code",
   "execution_count": 12,
   "metadata": {},
   "outputs": [
    {
     "name": "stdout",
     "output_type": "stream",
     "text": [
      "El número de ORFs que se encuentran relacionados a la descripción de Respiración es 45\n"
     ]
    }
   ],
   "source": [
    "print(\"El número de ORFs que se encuentran relacionados a la descripción de Respiración es {}\"\n",
    "      .format(respiration_ORFs))"
   ]
  },
  {
   "cell_type": "markdown",
   "metadata": {},
   "source": [
    "## Ejercicio 2.1\n",
    "\n",
    "count_class() cuenta el número de clases que tienen un patrón dado en su descripción y además imprime por pantalla un gráfico con las clases que más se repiten"
   ]
  },
  {
   "cell_type": "code",
   "execution_count": 13,
   "metadata": {},
   "outputs": [
    {
     "name": "stdout",
     "output_type": "stream",
     "text": [
      "\n",
      " Principales Clases del pattern: \n",
      "\n",
      "AxesSubplot(0.125,0.125;0.775x0.755)\n"
     ]
    },
    {
     "data": {
      "image/png": "[encoded data removed]",
      "text/plain": [
       "<Figure size 432x288 with 1 Axes>"
      ]
     },
     "metadata": {
      "needs_background": "light"
     },
     "output_type": "display_data"
    }
   ],
   "source": [
    "numero_clases_protein = count_class(data_class, \".*prot\")"
   ]
  },
  {
   "cell_type": "code",
   "execution_count": 18,
   "metadata": {},
   "outputs": [
    {
     "name": "stdout",
     "output_type": "stream",
     "text": [
      "El número de clases que contiene en su descripción el patrón 'protein' es: 311\n"
     ]
    }
   ],
   "source": [
    "print(\"El número de clases que contiene en su descripción el patrón 'protein' es: {}\"\n",
    "      .format(numero_clases_protein))"
   ]
  },
  {
   "cell_type": "code",
   "execution_count": 19,
   "metadata": {},
   "outputs": [
    {
     "name": "stdout",
     "output_type": "stream",
     "text": [
      "\n",
      " Principales Clases del pattern: \n",
      "\n",
      "AxesSubplot(0.125,0.125;0.775x0.755)\n"
     ]
    },
    {
     "data": {
      "image/png": "[encoded data removed]",
      "text/plain": [
       "<Figure size 432x288 with 1 Axes>"
      ]
     },
     "metadata": {
      "needs_background": "light"
     },
     "output_type": "display_data"
    }
   ],
   "source": [
    "numero_clases_hydro = count_class(data_class, \".*hydro\")"
   ]
  },
  {
   "cell_type": "code",
   "execution_count": 22,
   "metadata": {},
   "outputs": [
    {
     "name": "stdout",
     "output_type": "stream",
     "text": [
      "El número de clases que contiene en su descripción el patrón 'hydro' es: 166\n"
     ]
    }
   ],
   "source": [
    "print(\"El número de clases que contiene en su descripción el patrón 'hydro' es: {}\"\n",
    "      .format(numero_clases_hydro))"
   ]
  },
  {
   "cell_type": "code",
   "execution_count": 21,
   "metadata": {},
   "outputs": [
    {
     "name": "stdout",
     "output_type": "stream",
     "text": [
      "\n",
      " Principales Clases del pattern: \n",
      "\n",
      "AxesSubplot(0.125,0.125;0.775x0.755)\n"
     ]
    },
    {
     "data": {
      "image/png": "[encoded data removed]",
      "text/plain": [
       "<Figure size 432x288 with 1 Axes>"
      ]
     },
     "metadata": {
      "needs_background": "light"
     },
     "output_type": "display_data"
    }
   ],
   "source": [
    "numero_clases_hydro_prote = count_class(data_class, \".*hydro|.*prot\")"
   ]
  },
  {
   "cell_type": "code",
   "execution_count": 24,
   "metadata": {},
   "outputs": [
    {
     "name": "stdout",
     "output_type": "stream",
     "text": [
      "El número de clases que contiene en su descripción el patrón 'hydro' o 'protein' es: 477\n"
     ]
    }
   ],
   "source": [
    "print(\"El número de clases que contiene en su descripción el patrón 'hydro' o 'protein' es: {}\"\n",
    "      .format(numero_clases_hydro_prote))"
   ]
  },
  {
   "cell_type": "markdown",
   "metadata": {},
   "source": [
    "## Ejercicio 2.2 \n",
    "\n",
    "mean_ORF_related() trae el número de ORFs promedios con los que se relaciona un ORF con un patrón de búsqueda dado:"
   ]
  },
  {
   "cell_type": "code",
   "execution_count": 25,
   "metadata": {},
   "outputs": [
    {
     "name": "stdout",
     "output_type": "stream",
     "text": [
      "Top ORFs con mayor cantidad de relaciones: \n",
      " AxesSubplot(0.125,0.125;0.775x0.755)\n"
     ]
    },
    {
     "data": {
      "image/png": "[encoded data removed]",
      "text/plain": [
       "<Figure size 432x288 with 1 Axes>"
      ]
     },
     "metadata": {
      "needs_background": "light"
     },
     "output_type": "display_data"
    }
   ],
   "source": [
    "mean_protein = mean_ORF_related(data_class, data_ORFS, \".*prot\")"
   ]
  },
  {
   "cell_type": "code",
   "execution_count": 26,
   "metadata": {},
   "outputs": [
    {
     "name": "stdout",
     "output_type": "stream",
     "text": [
      "El número promedio con los que se relaciona el ORF con 'protein' es: 32.73225806451613\n"
     ]
    }
   ],
   "source": [
    "print(\"El número promedio con los que se relaciona el ORF con 'protein' es: {}\"\n",
    "      .format(mean_protein))"
   ]
  },
  {
   "cell_type": "code",
   "execution_count": 27,
   "metadata": {},
   "outputs": [
    {
     "name": "stdout",
     "output_type": "stream",
     "text": [
      "Top ORFs con mayor cantidad de relaciones: \n",
      " AxesSubplot(0.125,0.125;0.775x0.755)\n"
     ]
    },
    {
     "data": {
      "image/png": "[encoded data removed]",
      "text/plain": [
       "<Figure size 432x288 with 1 Axes>"
      ]
     },
     "metadata": {
      "needs_background": "light"
     },
     "output_type": "display_data"
    }
   ],
   "source": [
    "mean_hydro = mean_ORF_related(data_class, data_ORFS, \".*hydro\")"
   ]
  },
  {
   "cell_type": "code",
   "execution_count": 28,
   "metadata": {},
   "outputs": [
    {
     "name": "stdout",
     "output_type": "stream",
     "text": [
      "El número promedio con los que se relaciona el ORF con '.*hydro' es: 37.04819277108434\n"
     ]
    }
   ],
   "source": [
    "print(\"El número promedio con los que se relaciona el ORF con '.*hydro' es: {}\"\n",
    "      .format(mean_hydro))"
   ]
  },
  {
   "cell_type": "markdown",
   "metadata": {},
   "source": [
    "## Ejercicio 3\n",
    "\n",
    "count_class_multiplos() cuenta el número de clases que tienen al menos una dimensión múltiplo del entero dado, siendo este mayor a 0 y menor a 9:"
   ]
  },
  {
   "cell_type": "code",
   "execution_count": 33,
   "metadata": {},
   "outputs": [
    {
     "name": "stdout",
     "output_type": "stream",
     "text": [
      "M=2: 117 clases\n",
      "M=3: 59 clases\n",
      "M=4: 43 clases\n",
      "M=5: 13 clases\n",
      "M=6: 16 clases\n",
      "M=7: 19 clases\n",
      "M=8: 7 clases\n",
      "M=9: 3 clases\n"
     ]
    }
   ],
   "source": [
    "clases = list(set(data_class[\"Ids\"]))\n",
    "for i in list(range(2,10)):\n",
    "        print(\"M={}:\".format(i), count_class_multiplos(i, clases), \"clases\")"
   ]
  }
 ],
 "metadata": {
  "kernelspec": {
   "display_name": "Python 3",
   "language": "python",
   "name": "python3"
  },
  "language_info": {
   "codemirror_mode": {
    "name": "ipython",
    "version": 3
   },
   "file_extension": ".py",
   "mimetype": "text/x-python",
   "name": "python",
   "nbconvert_exporter": "python",
   "pygments_lexer": "ipython3",
   "version": "3.7.3"
  }
 },
 "nbformat": 4,
 "nbformat_minor": 4
}

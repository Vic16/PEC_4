{
 "cells": [
  {
   "cell_type": "code",
   "execution_count": 2,
   "metadata": {},
   "outputs": [
    {
     "name": "stdout",
     "output_type": "stream",
     "text": [
      "Loading dataset\n",
      "El head del DF: \n",
      "\n",
      "\n",
      "      ORF gen_name                       description_ORF        Ids  \\\n",
      "0   tb186     bglS                      beta-glucosidase  [1,1,1,0]   \n",
      "1  tb2202     cbhK                   carbohydrate kinase  [1,1,1,0]   \n",
      "2   tb727     fucA         L-fuculose phosphate aldolase  [1,1,1,0]   \n",
      "3  tb1731    gabD1  succinate-semialdehyde dehydrogenase  [1,1,1,0]   \n",
      "4   tb234    gabD2  succinate-semialdehyde dehydrogenase  [1,1,1,0]   \n",
      "\n",
      "      Descripciones  \n",
      "0  Carbon compounds  \n",
      "1  Carbon compounds  \n",
      "2  Carbon compounds  \n",
      "3  Carbon compounds  \n",
      "4  Carbon compounds  \n"
     ]
    },
    {
     "name": "stderr",
     "output_type": "stream",
     "text": [
      "test_ORFs_respiration (__main__.TestDataExpl) ... "
     ]
    },
    {
     "name": "stdout",
     "output_type": "stream",
     "text": [
      "Head de los datos de las relaciones entre ORFs: \n",
      "\n",
      "   ORF ORF_Related         Value\n",
      "0  tb4      tb3671  1.100000e-01\n",
      "1  tb4       tb405  4.300000e-01\n",
      "2  tb4      tb3225  5.600000e-01\n",
      "3  tb4      tb3863  7.400000e-01\n",
      "4  tb4      tb2867  9.600000e-01\n",
      "Starting test_ORFs_respiration\n",
      "\n",
      " Se ha guardado un archivo con todos los ORFs relacionados respiración\n"
     ]
    },
    {
     "name": "stderr",
     "output_type": "stream",
     "text": [
      "ok\n",
      "test_count_class (__main__.TestDataExpl) ... ok\n",
      "test_count_class_multiplos (__main__.TestDataExpl) ... ERROR\n",
      "test_mean_ORF_related (__main__.TestDataExpl) ... "
     ]
    },
    {
     "name": "stdout",
     "output_type": "stream",
     "text": [
      "AxesSubplot(0.125,0.125;0.775x0.755)\n",
      "Starting test_count_class\n",
      "\n",
      " Principales Clases del pattern: \n",
      "\n",
      "AxesSubplot(0.125,0.125;0.775x0.755)\n",
      "\n",
      " Principales Clases del pattern: \n",
      "\n",
      "AxesSubplot(0.125,0.125;0.775x0.755)\n",
      "\n",
      " Principales Clases del pattern: \n",
      "\n",
      "AxesSubplot(0.125,0.125;0.775x0.755)\n",
      "\n",
      " Principales Clases del pattern: \n",
      "\n",
      "AxesSubplot(0.125,0.125;0.775x0.755)\n",
      "Starting count_class_multiplos\n",
      "Starting mean_ORF_related\n",
      "Top ORFs con mayor cantidad de relaciones: \n",
      " AxesSubplot(0.125,0.125;0.775x0.755)\n",
      "Top ORFs con mayor cantidad de relaciones: \n",
      " AxesSubplot(0.125,0.125;0.775x0.755)\n"
     ]
    },
    {
     "name": "stderr",
     "output_type": "stream",
     "text": [
      "FAIL\n",
      "\n",
      "======================================================================\n",
      "ERROR: test_count_class_multiplos (__main__.TestDataExpl)\n",
      "----------------------------------------------------------------------\n",
      "Traceback (most recent call last):\n",
      "  File \"<ipython-input-2-71d479b7c87a>\", line 48, in test_count_class_multiplos\n",
      "    self.assertEqual(count_class_multiplos(self.list_test, 2),117)\n",
      "  File \"C:\\Users\\victor.ayala\\OneDrive - Havas\\Documents\\1.UOC\\3.Programacion para DS\\activity_4_Entrega_Victor_Ayala\\analytics.py\", line 138, in count_class_multiplos\n",
      "    list_class_with_out_none = list(filter(None.__ne__, list_class))\n",
      "TypeError: 'int' object is not iterable\n",
      "\n",
      "======================================================================\n",
      "FAIL: test_mean_ORF_related (__main__.TestDataExpl)\n",
      "----------------------------------------------------------------------\n",
      "Traceback (most recent call last):\n",
      "  File \"<ipython-input-2-71d479b7c87a>\", line 43, in test_mean_ORF_related\n",
      "    self.assertEqual(mean_ORF_related(self._df, self.df_orf, \".*prot\"), 37.04819277108434)\n",
      "AssertionError: 32.73225806451613 != 37.04819277108434\n",
      "\n",
      "----------------------------------------------------------------------\n",
      "Ran 4 tests in 6.817s\n",
      "\n",
      "FAILED (failures=1, errors=1)\n"
     ]
    },
    {
     "data": {
      "text/plain": [
       "<unittest.runner.TextTestResult run=4 errors=1 failures=1>"
      ]
     },
     "execution_count": 2,
     "metadata": {},
     "output_type": "execute_result"
    },
    {
     "data": {
      "image/png": "[encoded data removed]",
      "text/plain": [
       "<Figure size 432x288 with 1 Axes>"
      ]
     },
     "metadata": {
      "needs_background": "light"
     },
     "output_type": "display_data"
    }
   ],
   "source": [
    "import unittest\n",
    "import pandas as pd\n",
    "import re\n",
    "\n",
    "from read_data import read_class_functions\n",
    "from read_data import read_ORFs_data\n",
    "from analytics import count_class\n",
    "from analytics import mean_ORF_related\n",
    "from analytics import ORFs_respiration\n",
    "from analytics import count_class_multiplos\n",
    "\n",
    "\n",
    "class TestDataExpl(unittest.TestCase):\n",
    "\n",
    "    @classmethod\n",
    "    def setUpClass(cls):\n",
    "        print(\"Loading dataset\")\n",
    "        path_file =  \"data/tb_functions.pl\"\n",
    "        data = read_class_functions(path_file)\n",
    "        cls._df = data\n",
    "        cls.df_orf = read_ORFs_data(['data/orfs\\\\tb_data_00.txt',\n",
    "                                        'data/orfs\\\\tb_data_01.txt',\n",
    "                                        'data/orfs\\\\tb_data_02.txt',\n",
    "                                        'data/orfs\\\\tb_data_03.txt',\n",
    "                                        'data/orfs\\\\tb_data_04.txt',\n",
    "                                        'data/orfs\\\\tb_data_05.txt'])\n",
    "        cls.list_test = list(set(data[\"Ids\"]))\n",
    "\n",
    "    def test_ORFs_respiration(self):\n",
    "        print(\"Starting test_ORFs_respiration\")\n",
    "        self.assertEqual(ORFs_respiration(self._df), 45)\n",
    "\n",
    "    def test_count_class(self):\n",
    "        print(\"Starting test_count_class\")\n",
    "        self.assertEqual(count_class(self._df, \".*hydro\"), 166)\n",
    "        self.assertEqual(count_class(self._df, \".*prot\"), 311)\n",
    "        self.assertEqual(count_class(self._df, \".*ca\"), 83)\n",
    "        self.assertEqual(count_class(self._df, \".*aci\"), 28)\n",
    "\n",
    "    def test_mean_ORF_related(self):\n",
    "        print(\"Starting mean_ORF_related\")\n",
    "        self.assertEqual(mean_ORF_related(self._df, self.df_orf, \".*prot\"), 32.73225806451613)\n",
    "        self.assertEqual(mean_ORF_related(self._df, self.df_orf, \".*prot\"), 37.04819277108434)\n",
    "        self.assertEqual(mean_ORF_related(self._df, self.df_orf, \".*aci\"), 33.464285714285715)\n",
    "\n",
    "    def test_count_class_multiplos(self):\n",
    "        print(\"Starting count_class_multiplos\")\n",
    "        self.assertEqual(count_class_multiplos(self.list_test, 2),117)\n",
    "        self.assertEqual(count_class_multiplos(self.list_test, 3),59)\n",
    "        self.assertEqual(count_class_multiplos(self.list_test, 4),43)\n",
    "        self.assertEqual(count_class_multiplos(self.list_test, 5),666)\n",
    "        self.assertEqual(count_class_multiplos(self.list_test, 6),16)\n",
    "        self.assertEqual(count_class_multiplos(self.list_test, 7),19)\n",
    "        self.assertEqual(count_class_multiplos(self.list_test, 8),7)\n",
    "\n",
    "\n",
    "suite = unittest.TestSuite()\n",
    "suite.addTest(unittest.makeSuite(TestDataExpl))\n",
    "unittest.TextTestRunner(verbosity=2).run(suite)"
   ]
  },
  {
   "cell_type": "code",
   "execution_count": null,
   "metadata": {},
   "outputs": [],
   "source": []
  }
 ],
 "metadata": {
  "kernelspec": {
   "display_name": "Python 3",
   "language": "python",
   "name": "python3"
  },
  "language_info": {
   "codemirror_mode": {
    "name": "ipython",
    "version": 3
   },
   "file_extension": ".py",
   "mimetype": "text/x-python",
   "name": "python",
   "nbconvert_exporter": "python",
   "pygments_lexer": "ipython3",
   "version": "3.7.3"
  }
 },
 "nbformat": 4,
 "nbformat_minor": 4
}
